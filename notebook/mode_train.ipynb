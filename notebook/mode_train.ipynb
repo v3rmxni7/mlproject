{
 "cells": [
  {
   "cell_type": "code",
   "execution_count": 75,
   "id": "b6e1929c",
   "metadata": {},
   "outputs": [],
   "source": [
    "import numpy as np\n",
    "import pandas as pd\n",
    "import matplotlib.pyplot as plt"
   ]
  },
  {
   "cell_type": "code",
   "execution_count": 76,
   "id": "b1147173",
   "metadata": {},
   "outputs": [],
   "source": [
    "from sklearn.metrics import mean_squared_error, r2_score\n",
    "from sklearn.neighbors import KNeighborsRegressor\n",
    "from sklearn.tree import DecisionTreeRegressor\n",
    "from sklearn.ensemble import RandomForestRegressor,AdaBoostRegressor\n",
    "from sklearn.svm import SVR\n",
    "from sklearn.linear_model import LinearRegression, Ridge,Lasso,ElasticNet\n",
    "from sklearn.model_selection import RandomizedSearchCV\n",
    "from catboost import CatBoostRegressor\n",
    "from xgboost import XGBRegressor\n",
    "import warnings"
   ]
  },
  {
   "cell_type": "code",
   "execution_count": 77,
   "id": "3c9de87e",
   "metadata": {},
   "outputs": [],
   "source": [
    "df = pd.read_csv('data/stud.csv')"
   ]
  },
  {
   "cell_type": "code",
   "execution_count": 78,
   "id": "c26fd64f",
   "metadata": {},
   "outputs": [
    {
     "data": {
      "text/html": [
       "<div>\n",
       "<style scoped>\n",
       "    .dataframe tbody tr th:only-of-type {\n",
       "        vertical-align: middle;\n",
       "    }\n",
       "\n",
       "    .dataframe tbody tr th {\n",
       "        vertical-align: top;\n",
       "    }\n",
       "\n",
       "    .dataframe thead th {\n",
       "        text-align: right;\n",
       "    }\n",
       "</style>\n",
       "<table border=\"1\" class=\"dataframe\">\n",
       "  <thead>\n",
       "    <tr style=\"text-align: right;\">\n",
       "      <th></th>\n",
       "      <th>gender</th>\n",
       "      <th>race_ethnicity</th>\n",
       "      <th>parental_level_of_education</th>\n",
       "      <th>lunch</th>\n",
       "      <th>test_preparation_course</th>\n",
       "      <th>math_score</th>\n",
       "      <th>reading_score</th>\n",
       "      <th>writing_score</th>\n",
       "    </tr>\n",
       "  </thead>\n",
       "  <tbody>\n",
       "    <tr>\n",
       "      <th>0</th>\n",
       "      <td>female</td>\n",
       "      <td>group B</td>\n",
       "      <td>bachelor's degree</td>\n",
       "      <td>standard</td>\n",
       "      <td>none</td>\n",
       "      <td>72</td>\n",
       "      <td>72</td>\n",
       "      <td>74</td>\n",
       "    </tr>\n",
       "    <tr>\n",
       "      <th>1</th>\n",
       "      <td>female</td>\n",
       "      <td>group C</td>\n",
       "      <td>some college</td>\n",
       "      <td>standard</td>\n",
       "      <td>completed</td>\n",
       "      <td>69</td>\n",
       "      <td>90</td>\n",
       "      <td>88</td>\n",
       "    </tr>\n",
       "    <tr>\n",
       "      <th>2</th>\n",
       "      <td>female</td>\n",
       "      <td>group B</td>\n",
       "      <td>master's degree</td>\n",
       "      <td>standard</td>\n",
       "      <td>none</td>\n",
       "      <td>90</td>\n",
       "      <td>95</td>\n",
       "      <td>93</td>\n",
       "    </tr>\n",
       "    <tr>\n",
       "      <th>3</th>\n",
       "      <td>male</td>\n",
       "      <td>group A</td>\n",
       "      <td>associate's degree</td>\n",
       "      <td>free/reduced</td>\n",
       "      <td>none</td>\n",
       "      <td>47</td>\n",
       "      <td>57</td>\n",
       "      <td>44</td>\n",
       "    </tr>\n",
       "    <tr>\n",
       "      <th>4</th>\n",
       "      <td>male</td>\n",
       "      <td>group C</td>\n",
       "      <td>some college</td>\n",
       "      <td>standard</td>\n",
       "      <td>none</td>\n",
       "      <td>76</td>\n",
       "      <td>78</td>\n",
       "      <td>75</td>\n",
       "    </tr>\n",
       "  </tbody>\n",
       "</table>\n",
       "</div>"
      ],
      "text/plain": [
       "   gender race_ethnicity parental_level_of_education         lunch  \\\n",
       "0  female        group B           bachelor's degree      standard   \n",
       "1  female        group C                some college      standard   \n",
       "2  female        group B             master's degree      standard   \n",
       "3    male        group A          associate's degree  free/reduced   \n",
       "4    male        group C                some college      standard   \n",
       "\n",
       "  test_preparation_course  math_score  reading_score  writing_score  \n",
       "0                    none          72             72             74  \n",
       "1               completed          69             90             88  \n",
       "2                    none          90             95             93  \n",
       "3                    none          47             57             44  \n",
       "4                    none          76             78             75  "
      ]
     },
     "execution_count": 78,
     "metadata": {},
     "output_type": "execute_result"
    }
   ],
   "source": [
    "df.head()"
   ]
  },
  {
   "cell_type": "code",
   "execution_count": 79,
   "id": "9dc20159",
   "metadata": {},
   "outputs": [],
   "source": [
    "X = df.drop(columns=['math_score'],axis=1)\n",
    "y = df['math_score']"
   ]
  },
  {
   "cell_type": "code",
   "execution_count": 80,
   "id": "c2fcb3c8",
   "metadata": {},
   "outputs": [
    {
     "data": {
      "text/plain": [
       "Index(['reading_score', 'writing_score'], dtype='object')"
      ]
     },
     "execution_count": 80,
     "metadata": {},
     "output_type": "execute_result"
    }
   ],
   "source": [
    "num_features = X.select_dtypes(exclude=\"object\").columns\n",
    "cat_features = X.select_dtypes(include=\"object\").columns\n",
    "num_features"
   ]
  },
  {
   "cell_type": "code",
   "execution_count": 81,
   "id": "5c4f0832",
   "metadata": {},
   "outputs": [],
   "source": [
    "from sklearn.preprocessing import OneHotEncoder, StandardScaler\n",
    "from sklearn.compose import ColumnTransformer\n",
    "\n",
    "num_transformer = StandardScaler()\n",
    "oh_tranformer = OneHotEncoder()\n",
    "\n",
    "preprocessor = ColumnTransformer(\n",
    "    [\n",
    "        (\"OneHotEncoder\",oh_tranformer,cat_features),\n",
    "        (\"StandardScaler\",num_transformer,num_features)\n",
    "    ]\n",
    ")"
   ]
  },
  {
   "cell_type": "code",
   "execution_count": 82,
   "id": "64ee3747",
   "metadata": {},
   "outputs": [],
   "source": [
    "X = preprocessor.fit_transform(X)"
   ]
  },
  {
   "cell_type": "code",
   "execution_count": 83,
   "id": "cd1e23c1",
   "metadata": {},
   "outputs": [],
   "source": [
    "from sklearn.model_selection import train_test_split\n",
    "X_train,X_test,y_train,y_test = train_test_split(X,y,test_size=0.3,random_state=42)"
   ]
  },
  {
   "cell_type": "code",
   "execution_count": 84,
   "id": "d3f632c6",
   "metadata": {},
   "outputs": [
    {
     "data": {
      "text/plain": [
       "array([[ 0.        ,  1.        ,  0.        , ...,  0.        ,\n",
       "         0.8792638 ,  0.78653904],\n",
       "       [ 1.        ,  0.        ,  0.        , ...,  0.        ,\n",
       "         0.81073728,  0.72069783],\n",
       "       [ 0.        ,  1.        ,  0.        , ...,  1.        ,\n",
       "        -0.0801075 , -0.46444386],\n",
       "       ...,\n",
       "       [ 1.        ,  0.        ,  0.        , ...,  1.        ,\n",
       "        -0.49126664, -0.99117351],\n",
       "       [ 0.        ,  1.        ,  0.        , ...,  0.        ,\n",
       "        -1.45063795, -0.99117351],\n",
       "       [ 1.        ,  0.        ,  0.        , ...,  1.        ,\n",
       "         1.4960025 ,  1.37910989]])"
      ]
     },
     "execution_count": 84,
     "metadata": {},
     "output_type": "execute_result"
    }
   ],
   "source": [
    "X_train"
   ]
  },
  {
   "cell_type": "markdown",
   "id": "9d8ce189",
   "metadata": {},
   "source": [
    "    CREATE AN EVALUATE FUNCTION TO GIVE ALL METRICS AFTER MODEL TRAINING\n",
    "    "
   ]
  },
  {
   "cell_type": "code",
   "execution_count": 85,
   "id": "83cca77a",
   "metadata": {},
   "outputs": [],
   "source": [
    "def eval_model(true,predicted):\n",
    "    mse = mean_squared_error(true,predicted)\n",
    "    r2_sc = r2_score(true,predicted)\n",
    "    return mse,r2_sc"
   ]
  },
  {
   "cell_type": "code",
   "execution_count": 88,
   "id": "37b31fa7",
   "metadata": {},
   "outputs": [
    {
     "name": "stdout",
     "output_type": "stream",
     "text": [
      "\n",
      "📌 Model: LinearRegression\n",
      "📊 Performance on Training Set\n",
      "  MSE     : 27.7484\n",
      "  R2 Score: 0.8742\n",
      "-------------------------------\n",
      "📊 Performance on Test Set\n",
      "  MSE     : 31.7310\n",
      "  R2 Score: 0.8725\n",
      "\n",
      "📌 Model: Lasso\n",
      "📊 Performance on Training Set\n",
      "  MSE     : 42.3875\n",
      "  R2 Score: 0.8078\n",
      "-------------------------------\n",
      "📊 Performance on Test Set\n",
      "  MSE     : 47.2041\n",
      "  R2 Score: 0.8103\n",
      "\n",
      "📌 Model: RandomForestRegressor\n",
      "📊 Performance on Training Set\n",
      "  MSE     : 5.3375\n",
      "  R2 Score: 0.9758\n",
      "-------------------------------\n",
      "📊 Performance on Test Set\n",
      "  MSE     : 37.8322\n",
      "  R2 Score: 0.8479\n",
      "\n",
      "📌 Model: KNeighborsRegressor\n",
      "📊 Performance on Training Set\n",
      "  MSE     : 32.2447\n",
      "  R2 Score: 0.8538\n",
      "-------------------------------\n",
      "📊 Performance on Test Set\n",
      "  MSE     : 56.6472\n",
      "  R2 Score: 0.7723\n",
      "\n",
      "📌 Model: DecisionTreeRegressor\n",
      "📊 Performance on Training Set\n",
      "  MSE     : 0.0893\n",
      "  R2 Score: 0.9996\n",
      "-------------------------------\n",
      "📊 Performance on Test Set\n",
      "  MSE     : 66.0567\n",
      "  R2 Score: 0.7345\n",
      "\n",
      "📌 Model: XGBRegressor\n",
      "📊 Performance on Training Set\n",
      "  MSE     : 0.8022\n",
      "  R2 Score: 0.9964\n",
      "-------------------------------\n",
      "📊 Performance on Test Set\n",
      "  MSE     : 46.8223\n",
      "  R2 Score: 0.8118\n",
      "\n",
      "📌 Model: CatBoostRegressor\n",
      "📊 Performance on Training Set\n",
      "  MSE     : 8.5384\n",
      "  R2 Score: 0.9613\n",
      "-------------------------------\n",
      "📊 Performance on Test Set\n",
      "  MSE     : 36.7972\n",
      "  R2 Score: 0.8521\n",
      "\n",
      "📌 Model: AdaBoostRegressor\n",
      "📊 Performance on Training Set\n",
      "  MSE     : 34.3852\n",
      "  R2 Score: 0.8441\n",
      "-------------------------------\n",
      "📊 Performance on Test Set\n",
      "  MSE     : 41.3444\n",
      "  R2 Score: 0.8338\n"
     ]
    }
   ],
   "source": [
    "from sklearn.linear_model import LinearRegression, Lasso, Ridge\n",
    "from sklearn.neighbors import KNeighborsRegressor\n",
    "from sklearn.tree import DecisionTreeRegressor\n",
    "from sklearn.ensemble import RandomForestRegressor, AdaBoostRegressor\n",
    "from xgboost import XGBRegressor\n",
    "from catboost import CatBoostRegressor\n",
    "\n",
    "models = {\n",
    "    \"LinearRegression\": LinearRegression(),\n",
    "    \"Lasso\": Lasso(),\n",
    "    \"RandomForestRegressor\": RandomForestRegressor(),\n",
    "    \"KNeighborsRegressor\": KNeighborsRegressor(),\n",
    "    \"DecisionTreeRegressor\": DecisionTreeRegressor(),\n",
    "    \"XGBRegressor\": XGBRegressor(),\n",
    "    \"CatBoostRegressor\": CatBoostRegressor(verbose=0),\n",
    "    \"AdaBoostRegressor\": AdaBoostRegressor(),\n",
    "}\n",
    "\n",
    "model_list = []\n",
    "r2_list = []\n",
    "\n",
    "for name, model in models.items():\n",
    "    model.fit(X_train, y_train)\n",
    "\n",
    "    y_train_pred = model.predict(X_train)\n",
    "    y_test_pred = model.predict(X_test)\n",
    "\n",
    "    model_train_mse, model_train_r2 = eval_model(y_train, y_train_pred)\n",
    "    model_test_mse, model_test_r2 = eval_model(y_test, y_test_pred)\n",
    "\n",
    "    print(f\"\\n📌 Model: {name}\")\n",
    "    model_list.append(name)\n",
    "    r2_list.append(model_test_r2)\n",
    "\n",
    "    print(\"📊 Performance on Training Set\")\n",
    "    print(f\"  MSE     : {model_train_mse:.4f}\")\n",
    "    print(f\"  R2 Score: {model_train_r2:.4f}\")\n",
    "\n",
    "    print(\"-------------------------------\")\n",
    "\n",
    "    print(\"📊 Performance on Test Set\")\n",
    "    print(f\"  MSE     : {model_test_mse:.4f}\")\n",
    "    print(f\"  R2 Score: {model_test_r2:.4f}\")\n"
   ]
  },
  {
   "cell_type": "code",
   "execution_count": null,
   "id": "b6e8aeb3",
   "metadata": {},
   "outputs": [],
   "source": []
  }
 ],
 "metadata": {
  "kernelspec": {
   "display_name": "Python 3",
   "language": "python",
   "name": "python3"
  },
  "language_info": {
   "codemirror_mode": {
    "name": "ipython",
    "version": 3
   },
   "file_extension": ".py",
   "mimetype": "text/x-python",
   "name": "python",
   "nbconvert_exporter": "python",
   "pygments_lexer": "ipython3",
   "version": "3.8.20"
  }
 },
 "nbformat": 4,
 "nbformat_minor": 5
}
